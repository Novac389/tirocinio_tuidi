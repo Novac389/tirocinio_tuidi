{
 "cells": [
  {
   "cell_type": "code",
   "execution_count": null,
   "id": "dff2daa3",
   "metadata": {
    "scrolled": true
   },
   "outputs": [],
   "source": [
    "import pandas as pd\n",
    "import numpy as np\n",
    "import re\n",
    "import datetime as time\n",
    "from collections import Counter\n",
    "from mlxtend.frequent_patterns import apriori, association_rules\n",
    "#pd.set_option('display.max_columns', None)\n",
    "df = pd.read_parquet('scontrini_2.parquet',engine='pyarrow')\n",
    "#df = df[(~df.reparto.isin([\"95\",\"80\",\"85\"]))&(df.tipo==\"\")]\n",
    "df"
   ]
  },
  {
   "cell_type": "code",
   "execution_count": null,
   "id": "04159b39",
   "metadata": {},
   "outputs": [],
   "source": [
    "df.reparto.unique()"
   ]
  },
  {
   "cell_type": "code",
   "execution_count": null,
   "id": "069dc886",
   "metadata": {},
   "outputs": [],
   "source": [
    "def hot_encode(x):\n",
    "    if(x==0):\n",
    "        return False\n",
    "    else:\n",
    "        return True"
   ]
  },
  {
   "cell_type": "code",
   "execution_count": null,
   "id": "fd04c8d3",
   "metadata": {
    "scrolled": true
   },
   "outputs": [],
   "source": [
    "transazioni=df[['cassa','transazione','data_reg','descrizione','reparto','qta_riga']]"
   ]
  },
  {
   "cell_type": "markdown",
   "id": "4eefa6d1",
   "metadata": {},
   "source": [
    "Frequent set dei reparti periodo settebre-gennaio"
   ]
  },
  {
   "cell_type": "code",
   "execution_count": null,
   "id": "961af15d",
   "metadata": {},
   "outputs": [],
   "source": [
    "frq_items_reparti=[]\n",
    "for reparto in df.reparto.unique():\n",
    "    \n",
    "    basket_rep = transazioni[transazioni.reparto==reparto]\\\n",
    "    .groupby(['cassa','transazione','data_reg','descrizione'])['qta_riga']\\\n",
    "    .sum()\\\n",
    "    .unstack(fill_value=0)\\\n",
    "    .reset_index()\\\n",
    "    .drop(['cassa', 'transazione','data_reg'], axis=1)\\\n",
    "    .applymap(hot_encode)\n",
    "\n",
    "    frq_items=apriori(basket_rep, min_support = 0.01, use_colnames = True).sort_values(by=[\"support\"],ascending=False)\n",
    "    frq_items_reparti.append(\n",
    "    {\n",
    "        \"reparto\" : reparto,\n",
    "        \"itemset\" : list(frq_items.iloc[0].itemsets)[0],\n",
    "        \"grandezza\" : len(basket_rep) * frq_items.iloc[0].support\n",
    "    }\n",
    "    )"
   ]
  },
  {
   "cell_type": "code",
   "execution_count": null,
   "id": "4da7d687",
   "metadata": {
    "scrolled": false
   },
   "outputs": [],
   "source": [
    "pd.DataFrame(frq_items_reparti).plot.bar(figsize=(25,7),x=\"itemset\", y=\"grandezza\")"
   ]
  }
 ],
 "metadata": {
  "kernelspec": {
   "display_name": "Python 3 (ipykernel)",
   "language": "python",
   "name": "python3"
  },
  "language_info": {
   "codemirror_mode": {
    "name": "ipython",
    "version": 3
   },
   "file_extension": ".py",
   "mimetype": "text/x-python",
   "name": "python",
   "nbconvert_exporter": "python",
   "pygments_lexer": "ipython3",
   "version": "3.8.6"
  }
 },
 "nbformat": 4,
 "nbformat_minor": 5
}
