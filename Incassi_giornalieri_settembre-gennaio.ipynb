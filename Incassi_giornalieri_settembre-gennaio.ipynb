{
 "cells": [
  {
   "cell_type": "code",
   "execution_count": null,
   "id": "f0146706",
   "metadata": {},
   "outputs": [],
   "source": [
    "import pandas as pd\n",
    "pd.options.mode.chained_assignment = None \n",
    "pd.set_option('display.max_columns', None)\n",
    "data = pd.read_parquet('scontrini_2.parquet',engine='pyarrow')\n",
    "data = data[(data.tipo==\"\")&(data.descrizione!=\"SERVIZIO A DOMICILIO\")]#i dati sono già filtrati levando servizio a domicilio e tipo = \"\"\n",
    "data"
   ]
  },
  {
   "cell_type": "code",
   "execution_count": null,
   "id": "8a4915d1",
   "metadata": {},
   "outputs": [],
   "source": [
    "scontrini = data[['cassa','transazione','data_reg','ora','carta','valore']]"
   ]
  },
  {
   "cell_type": "code",
   "execution_count": null,
   "id": "46eeff77",
   "metadata": {
    "scrolled": true
   },
   "outputs": [],
   "source": [
    "shoppingSession=scontrini.groupby(['cassa','transazione','data_reg','ora']) \\\n",
    "    ['valore']\\\n",
    "    .sum()\\\n",
    "    .reset_index()\\\n",
    "    .fillna(0)\\\n",
    "    .drop(['cassa', 'transazione'], axis=1)\n",
    "shoppingSession"
   ]
  },
  {
   "cell_type": "code",
   "execution_count": null,
   "id": "c1356890",
   "metadata": {
    "scrolled": true
   },
   "outputs": [],
   "source": [
    "dateRagg= shoppingSession.groupby([\"data_reg\"])[\"valore\"].sum().reset_index()\n",
    "dateRagg"
   ]
  },
  {
   "cell_type": "code",
   "execution_count": null,
   "id": "6ebd79d6",
   "metadata": {},
   "outputs": [],
   "source": [
    "dateRagg.plot.bar(figsize=(30,5),x=\"data_reg\", y=\"valore\")"
   ]
  }
 ],
 "metadata": {
  "kernelspec": {
   "display_name": "Python 3 (ipykernel)",
   "language": "python",
   "name": "python3"
  },
  "language_info": {
   "codemirror_mode": {
    "name": "ipython",
    "version": 3
   },
   "file_extension": ".py",
   "mimetype": "text/x-python",
   "name": "python",
   "nbconvert_exporter": "python",
   "pygments_lexer": "ipython3",
   "version": "3.8.6"
  }
 },
 "nbformat": 4,
 "nbformat_minor": 5
}
