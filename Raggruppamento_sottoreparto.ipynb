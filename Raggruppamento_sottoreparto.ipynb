{
 "cells": [
  {
   "cell_type": "code",
   "execution_count": null,
   "id": "b0e8c59a",
   "metadata": {
    "scrolled": true
   },
   "outputs": [],
   "source": [
    "import pandas as pd\n",
    "import numpy as np\n",
    "import re\n",
    "import datetime as time\n",
    "from collections import Counter\n",
    "from mlxtend.frequent_patterns import apriori, association_rules\n",
    "pd.set_option('display.max_columns', None)\n",
    "df = pd.read_parquet('scontrini.parquet',engine='pyarrow')\n",
    "df"
   ]
  },
  {
   "cell_type": "code",
   "execution_count": null,
   "id": "66eb9ac3",
   "metadata": {},
   "outputs": [],
   "source": [
    "def mostCommonWord(s):\n",
    "    words=s.replace('.',' ').split()\n",
    "    returnList=[]\n",
    "    for word in words:\n",
    "        if (re.match(r\"\\b[A-Z]{3,}\",word) is not None):\n",
    "            returnList.append(word)\n",
    "    return [x[0] for x in Counter(returnList).most_common(1)].pop()\n",
    "\n",
    "def hot_encode(x):\n",
    "    if(x<= 0):\n",
    "        return 0\n",
    "    if(x> 0):\n",
    "        return 1"
   ]
  },
  {
   "cell_type": "code",
   "execution_count": null,
   "id": "791aa28e",
   "metadata": {},
   "outputs": [],
   "source": [
    "for rep in df.reparto.unique():\n",
    "        for sottRep in df[df.reparto==rep].sottoreparto.unique():\n",
    "            df.loc[\n",
    "                (df.reparto==rep)&\n",
    "                (df.sottoreparto==sottRep)\n",
    "                ,'descrizione']=mostCommonWord(\n",
    "                df[(df.reparto==rep)&(df.sottoreparto==sottRep)].descrizione.to_string())"
   ]
  },
  {
   "cell_type": "markdown",
   "id": "4894af3b",
   "metadata": {},
   "source": [
    "creazione tabella transazioni di novembre"
   ]
  },
  {
   "cell_type": "code",
   "execution_count": null,
   "id": "c8a6be4e",
   "metadata": {
    "scrolled": false
   },
   "outputs": [],
   "source": [
    "transazioniNov=df[['cassa','transazione','data_reg','descrizione','qta_riga']][(df.descrizione!=\"SERVIZIO\")&(df.tipo==\"\")&(df.data_reg>=time.date(2021,11,1))&(df.data_reg<=time.date(2021,11,30))]\n",
    "\n",
    "transazioniNov=transazioniNov.groupby(['cassa','transazione','data_reg','descrizione'])['qta_riga'].sum().unstack().reset_index().fillna(0).drop(['cassa', 'transazione','data_reg'], axis=1)\n",
    "basketNov = transazioniNov.applymap(hot_encode)\n",
    "basketNov"
   ]
  },
  {
   "cell_type": "markdown",
   "id": "3b6c410f",
   "metadata": {},
   "source": [
    "Creazione tabella transazioni dicembre"
   ]
  },
  {
   "cell_type": "code",
   "execution_count": null,
   "id": "5a9e6420",
   "metadata": {},
   "outputs": [],
   "source": [
    "transazioniDic=df[['cassa','transazione','data_reg','descrizione','qta_riga']][(df.descrizione!=\"SERVIZIO\")&(df.tipo==\"\")&(df.data_reg>=time.date(2021,12,1))&(df.data_reg<=time.date(2021,12,31))]\n",
    "\n",
    "transazioniDic=transazioniDic.groupby(['cassa','transazione','data_reg','descrizione'])['qta_riga'].sum().unstack().reset_index().fillna(0).drop(['cassa', 'transazione','data_reg'], axis=1)\n",
    "basketDic = transazioniDic.applymap(hot_encode)\n",
    "basketDic"
   ]
  },
  {
   "cell_type": "markdown",
   "id": "250a0025",
   "metadata": {},
   "source": [
    "Apriori applicato al basket di novembre"
   ]
  },
  {
   "cell_type": "code",
   "execution_count": null,
   "id": "3ee02519",
   "metadata": {},
   "outputs": [],
   "source": [
    "frq_items_nov = apriori(basketNov, min_support = 0.01, use_colnames = True)\n",
    "rules_nov = association_rules(frq_items_nov, metric =\"lift\", min_threshold = 1)\n",
    "with pd.option_context('display.max_rows', None, 'display.max_columns', None):\n",
    "    display(rules_nov.sort_values(by=['confidence'], ascending=False))"
   ]
  },
  {
   "cell_type": "markdown",
   "id": "a99f20e7",
   "metadata": {},
   "source": [
    "Apriori applicato al basket di dicembre"
   ]
  },
  {
   "cell_type": "code",
   "execution_count": null,
   "id": "158b981b",
   "metadata": {},
   "outputs": [],
   "source": [
    "frq_items_dic = apriori(basketDic, min_support = 0.01, use_colnames = True)\n",
    "rules_dic = association_rules(frq_items_dic, metric =\"lift\", min_threshold = 1)\n",
    "with pd.option_context('display.max_rows', None, 'display.max_columns', None):\n",
    "    display(rules_dic.sort_values(by=['confidence'], ascending=False))"
   ]
  }
 ],
 "metadata": {
  "kernelspec": {
   "display_name": "Python 3 (ipykernel)",
   "language": "python",
   "name": "python3"
  },
  "language_info": {
   "codemirror_mode": {
    "name": "ipython",
    "version": 3
   },
   "file_extension": ".py",
   "mimetype": "text/x-python",
   "name": "python",
   "nbconvert_exporter": "python",
   "pygments_lexer": "ipython3",
   "version": "3.8.6"
  }
 },
 "nbformat": 4,
 "nbformat_minor": 5
}
