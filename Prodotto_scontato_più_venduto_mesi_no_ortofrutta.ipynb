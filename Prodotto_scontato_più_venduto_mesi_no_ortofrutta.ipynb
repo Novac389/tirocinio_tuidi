{
 "cells": [
  {
   "cell_type": "code",
   "execution_count": null,
   "id": "5d576e5c",
   "metadata": {
    "scrolled": false
   },
   "outputs": [],
   "source": [
    "import pandas as pd\n",
    "import numpy as np\n",
    "import re\n",
    "import datetime as time\n",
    "from mlxtend.frequent_patterns import apriori, association_rules\n",
    "import sys\n",
    "np.set_printoptions(threshold=sys.maxsize)\n",
    "pd.set_option('display.max_columns', None)\n",
    "df = pd.read_parquet('scontrini_2.parquet',engine='pyarrow')\n",
    "df = df[(~df.reparto.isin([\"95\",\"80\",\"85\",\"03\"]))&(df.tipo==\"\")]\n",
    "df"
   ]
  },
  {
   "cell_type": "code",
   "execution_count": null,
   "id": "5b551c19",
   "metadata": {},
   "outputs": [],
   "source": [
    "def hot_encode(x):\n",
    "    if(x==0):\n",
    "        return False\n",
    "    else:\n",
    "        return True"
   ]
  },
  {
   "cell_type": "markdown",
   "id": "7bf8f542",
   "metadata": {},
   "source": [
    "Divisione di tutti i mesi"
   ]
  },
  {
   "cell_type": "code",
   "execution_count": null,
   "id": "ae7180ff",
   "metadata": {},
   "outputs": [],
   "source": [
    "settembre=df[(df.data_reg>=time.date(2021,9,1))&(df.data_reg<=time.date(2021,9,30))]\n",
    "ottobre=df[(df.data_reg>=time.date(2021,10,1))&(df.data_reg<=time.date(2021,10,31))]\n",
    "novembre=df[(df.data_reg>=time.date(2021,11,1))&(df.data_reg<=time.date(2021,11,30))]\n",
    "dicembre=df[(df.data_reg>=time.date(2021,12,1))&(df.data_reg<=time.date(2021,12,31))]"
   ]
  },
  {
   "cell_type": "code",
   "execution_count": null,
   "id": "65824621",
   "metadata": {},
   "outputs": [],
   "source": [
    "giorniScontiSet=settembre[settembre.promoNoPromo==1].groupby(['descrizione','data_reg'])[\"qta_riga\"].sum().to_frame().reset_index()\n",
    "giorniScontiOtt=ottobre[ottobre.promoNoPromo==1].groupby(['descrizione','data_reg'])[\"qta_riga\"].sum().to_frame().reset_index()\n",
    "giorniScontiNov=novembre[novembre.promoNoPromo==1].groupby(['descrizione','data_reg'])[\"qta_riga\"].sum().to_frame().reset_index()\n",
    "giorniScontiDic=dicembre[dicembre.promoNoPromo==1].groupby(['descrizione','data_reg'])[\"qta_riga\"].sum().to_frame().reset_index()"
   ]
  },
  {
   "cell_type": "code",
   "execution_count": null,
   "id": "d3fc3b16",
   "metadata": {
    "scrolled": false
   },
   "outputs": [],
   "source": [
    "basketAux=settembre[settembre.promoNoPromo==1][['cassa','transazione','data_reg','descrizione','qta_riga']]\\\n",
    "    .groupby(['cassa','transazione','data_reg','descrizione'])['qta_riga']\\\n",
    "    .sum()\\\n",
    "    .unstack(fill_value=0)\\\n",
    "    .reset_index()\\\n",
    "    .drop(['cassa', 'transazione','data_reg'], axis=1)\\\n",
    "    .applymap(hot_encode)\n",
    "mostSoldSet = list(apriori(basketAux, min_support = 0.03, use_colnames = True).sort_values(by=['support'], ascending=False)['itemsets'].iloc[0])[0]\n",
    "\n",
    "basketAux=ottobre[ottobre.promoNoPromo==1][['cassa','transazione','data_reg','descrizione','qta_riga']]\\\n",
    "    .groupby(['cassa','transazione','data_reg','descrizione'])['qta_riga']\\\n",
    "    .sum()\\\n",
    "    .unstack(fill_value=0)\\\n",
    "    .reset_index()\\\n",
    "    .drop(['cassa', 'transazione','data_reg'], axis=1)\\\n",
    "    .applymap(hot_encode)\n",
    "mostSoldOtt = list(apriori(basketAux, min_support = 0.02, use_colnames = True).sort_values(by=['support'], ascending=False)['itemsets'].iloc[0])[0]\n",
    "\n",
    "basketAux=novembre[novembre.promoNoPromo==1][['cassa','transazione','data_reg','descrizione','qta_riga']]\\\n",
    "    .groupby(['cassa','transazione','data_reg','descrizione'])['qta_riga']\\\n",
    "    .sum()\\\n",
    "    .unstack(fill_value=0)\\\n",
    "    .reset_index()\\\n",
    "    .drop(['cassa', 'transazione','data_reg'], axis=1)\\\n",
    "    .applymap(hot_encode)\n",
    "mostSoldNov = list(apriori(basketAux, min_support = 0.03, use_colnames = True).sort_values(by=['support'], ascending=False)['itemsets'].iloc[0])[0]\n",
    "\n",
    "basketAux=dicembre[dicembre.promoNoPromo==1][['cassa','transazione','data_reg','descrizione','qta_riga']]\\\n",
    "    .groupby(['cassa','transazione','data_reg','descrizione'])['qta_riga']\\\n",
    "    .sum()\\\n",
    "    .unstack(fill_value=0)\\\n",
    "    .reset_index()\\\n",
    "    .drop(['cassa', 'transazione','data_reg'], axis=1)\\\n",
    "    .applymap(hot_encode)\n",
    "mostSoldDic = list(apriori(basketAux, min_support = 0.03, use_colnames = True).sort_values(by=['support'], ascending=False)['itemsets'].iloc[0])[0]"
   ]
  },
  {
   "cell_type": "code",
   "execution_count": null,
   "id": "1c62304e",
   "metadata": {
    "scrolled": true
   },
   "outputs": [],
   "source": [
    "#settembre\n",
    "inizioSet = giorniScontiSet[giorniScontiSet.descrizione==mostSoldSet].sort_values(by='data_reg')['data_reg'].iloc[0]\n",
    "fineSet = giorniScontiSet[giorniScontiSet.descrizione==mostSoldSet].sort_values(by='data_reg')['data_reg'].iloc[-1]\n",
    "i=-2\n",
    "while(fineSet-inizioSet >= time.timedelta(14)):\n",
    "    fineSet = giorniScontiSet[giorniScontiSet.descrizione==mostSoldSet].sort_values(by='data_reg')['data_reg'].iloc[i]\n",
    "    i-=1\n",
    "\n",
    "#ottobre\n",
    "inizioOtt = giorniScontiOtt[giorniScontiOtt.descrizione==mostSoldOtt].sort_values(by='data_reg')['data_reg'].iloc[0]\n",
    "fineOtt = giorniScontiOtt[giorniScontiOtt.descrizione==mostSoldOtt].sort_values(by='data_reg')['data_reg'].iloc[-1]\n",
    "i=-2\n",
    "while(fineOtt-inizioOtt >= time.timedelta(14)):\n",
    "    fineOtt = giorniScontiOtt[giorniScontiOtt.descrizione==mostSoldOtt].sort_values(by='data_reg')['data_reg'].iloc[i]\n",
    "    i-=1\n",
    "\n",
    "#novembre\n",
    "inizioNov = giorniScontiNov[giorniScontiNov.descrizione==mostSoldNov].sort_values(by='data_reg')['data_reg'].iloc[0]\n",
    "fineNov = giorniScontiNov[giorniScontiNov.descrizione==mostSoldNov].sort_values(by='data_reg')['data_reg'].iloc[-1]\n",
    "i=-2\n",
    "while(fineNov-inizioNov >= time.timedelta(14)):\n",
    "    fineNov = giorniScontiNov[giorniScontiNov.descrizione==mostSoldNov].sort_values(by='data_reg')['data_reg'].iloc[i]\n",
    "    i-=1\n",
    "\n",
    "#dicembre \n",
    "inizioDic = giorniScontiDic[giorniScontiDic.descrizione==mostSoldDic].sort_values(by='data_reg')['data_reg'].iloc[0]\n",
    "fineDic = giorniScontiDic[giorniScontiDic.descrizione==mostSoldDic].sort_values(by='data_reg')['data_reg'].iloc[-1]\n",
    "i=-2\n",
    "while(fineDic-inizioDic >= time.timedelta(14)):\n",
    "    fineDic = giorniScontiDic[giorniScontiDic.descrizione==mostSoldDic].sort_values(by='data_reg')['data_reg'].iloc[i]\n",
    "    i-=1"
   ]
  },
  {
   "cell_type": "code",
   "execution_count": null,
   "id": "8dadd93d",
   "metadata": {
    "scrolled": true
   },
   "outputs": [],
   "source": [
    "basketScontoSet=df[(df.data_reg>=inizioSet)&(df.data_reg<=fineSet)][['cassa','transazione','data_reg','descrizione','qta_riga']]\\\n",
    "    .groupby(['cassa','transazione','data_reg','descrizione'])['qta_riga']\\\n",
    "    .sum()\\\n",
    "    .unstack(fill_value=0)\\\n",
    "    .reset_index()\\\n",
    "    .fillna(0)\\\n",
    "    .drop(['cassa', 'transazione','data_reg'], axis=1)\\\n",
    "    .applymap(hot_encode)\n",
    "\n",
    "basketScontoOtt=df[(df.data_reg>=inizioOtt)&(df.data_reg<=fineOtt)][['cassa','transazione','data_reg','descrizione','qta_riga']]\\\n",
    "    .groupby(['cassa','transazione','data_reg','descrizione'])['qta_riga']\\\n",
    "    .sum()\\\n",
    "    .unstack(fill_value=0)\\\n",
    "    .reset_index()\\\n",
    "    .drop(['cassa', 'transazione','data_reg'], axis=1)\\\n",
    "    .applymap(hot_encode)\n",
    "\n",
    "basketScontoNov=df[(df.data_reg>=inizioNov)&(df.data_reg<=fineNov)][['cassa','transazione','data_reg','descrizione','qta_riga']]\\\n",
    "    .groupby(['cassa','transazione','data_reg','descrizione'])['qta_riga']\\\n",
    "    .sum()\\\n",
    "    .unstack(fill_value=0)\\\n",
    "    .reset_index()\\\n",
    "    .drop(['cassa', 'transazione','data_reg'], axis=1)\\\n",
    "    .applymap(hot_encode)\n",
    "\n",
    "basketScontoDic=df[(df.data_reg>=inizioDic)&(df.data_reg<=fineDic)][['cassa','transazione','data_reg','descrizione','qta_riga']]\\\n",
    "    .groupby(['cassa','transazione','data_reg','descrizione'])['qta_riga']\\\n",
    "    .sum()\\\n",
    "    .unstack(fill_value=0)\\\n",
    "    .reset_index()\\\n",
    "    .drop(['cassa', 'transazione','data_reg'], axis=1)\\\n",
    "    .applymap(hot_encode)"
   ]
  },
  {
   "cell_type": "code",
   "execution_count": null,
   "id": "ffdaac3b",
   "metadata": {
    "scrolled": true
   },
   "outputs": [],
   "source": [
    "print(\"il prodotto scontato più venduto mese di settembre: \",mostSoldSet)"
   ]
  },
  {
   "cell_type": "code",
   "execution_count": null,
   "id": "c3598b37",
   "metadata": {
    "scrolled": true
   },
   "outputs": [],
   "source": [
    "frq_items_sconto_set = apriori(basketScontoSet, min_support = 0.001, use_colnames = True)\n",
    "rules_sconto_set = association_rules(frq_items_sconto_set, metric =\"confidence\", min_threshold = 0.01).sort_values(by=['confidence'], ascending=False)\n",
    "with pd.option_context('display.max_rows', None, 'display.max_columns', None):\n",
    "    display(rules_sconto_set)"
   ]
  },
  {
   "cell_type": "markdown",
   "id": "16e63b64",
   "metadata": {},
   "source": [
    "Itemsets con il prodotto più venduto"
   ]
  },
  {
   "cell_type": "code",
   "execution_count": null,
   "id": "1ad6f933",
   "metadata": {
    "scrolled": true
   },
   "outputs": [],
   "source": [
    "rules_sconto_set[(rules_sconto_set['antecedents'].astype(str).str.contains(mostSoldSet,regex=False))|\n",
    "                ((rules_sconto_set['consequents'].astype(str).str.contains(mostSoldSet,regex=False)))]"
   ]
  },
  {
   "cell_type": "code",
   "execution_count": null,
   "id": "4f92277f",
   "metadata": {},
   "outputs": [],
   "source": [
    "print(\"il prodotto scontato più venduto mese di ottobre: \",mostSoldOtt)"
   ]
  },
  {
   "cell_type": "code",
   "execution_count": null,
   "id": "177c1e7d",
   "metadata": {
    "scrolled": true
   },
   "outputs": [],
   "source": [
    "frq_items_sconto_ott = apriori(basketScontoOtt, min_support = 0.002, use_colnames = True)\n",
    "rules_sconto_ott = association_rules(frq_items_sconto_ott, metric =\"confidence\", min_threshold = 0.01).sort_values(by=['confidence'], ascending=False)\n",
    "with pd.option_context('display.max_rows', None, 'display.max_columns', None):\n",
    "    display(rules_sconto_ott)"
   ]
  },
  {
   "cell_type": "markdown",
   "id": "c5656501",
   "metadata": {},
   "source": [
    "Itemsets con il prodotto più venduto"
   ]
  },
  {
   "cell_type": "code",
   "execution_count": null,
   "id": "4b320171",
   "metadata": {
    "scrolled": true
   },
   "outputs": [],
   "source": [
    "rules_sconto_ott[(rules_sconto_ott['antecedents'].astype(str).str.contains(mostSoldOtt,regex=False))|\n",
    "                ((rules_sconto_ott['consequents'].astype(str).str.contains(mostSoldOtt,regex=False)))]"
   ]
  },
  {
   "cell_type": "code",
   "execution_count": null,
   "id": "195c4c18",
   "metadata": {},
   "outputs": [],
   "source": [
    "print(\"il prodotto scontato più venduto mese di novembre: \",mostSoldNov)"
   ]
  },
  {
   "cell_type": "code",
   "execution_count": null,
   "id": "b28083e4",
   "metadata": {
    "scrolled": true
   },
   "outputs": [],
   "source": [
    "frq_items_sconto_nov = apriori(basketScontoNov, min_support = 0.001, use_colnames = True)\n",
    "rules_sconto_nov = association_rules(frq_items_sconto_nov, metric =\"confidence\", min_threshold = 0.01).sort_values(by=['confidence'], ascending=False)\n",
    "with pd.option_context('display.max_rows', None, 'display.max_columns', None):\n",
    "    display(rules_sconto_nov)"
   ]
  },
  {
   "cell_type": "markdown",
   "id": "c1800e44",
   "metadata": {},
   "source": [
    "Itemsets con il prodotto più venduto"
   ]
  },
  {
   "cell_type": "code",
   "execution_count": null,
   "id": "f8872ab2",
   "metadata": {
    "scrolled": true
   },
   "outputs": [],
   "source": [
    "with pd.option_context('display.max_rows', None, 'display.max_columns', None):\n",
    "    display(rules_sconto_nov[(rules_sconto_nov['antecedents'].astype(str).str.contains(mostSoldNov,regex=False))|\n",
    "                ((rules_sconto_nov['consequents'].astype(str).str.contains(mostSoldNov,regex=False)))])\n",
    "\n"
   ]
  },
  {
   "cell_type": "code",
   "execution_count": null,
   "id": "9fa3aaa7",
   "metadata": {
    "scrolled": true
   },
   "outputs": [],
   "source": [
    "print(\"il prodotto scontato più venduto mese di dicembre: \",mostSoldDic)"
   ]
  },
  {
   "cell_type": "code",
   "execution_count": null,
   "id": "6ab8294c",
   "metadata": {},
   "outputs": [],
   "source": [
    "frq_items_sconto_dic = apriori(basketScontoDic, min_support = 0.002, use_colnames = True)\n",
    "rules_sconto_dic = association_rules(frq_items_sconto_dic, metric =\"confidence\", min_threshold = 0.01).sort_values(by=['confidence'], ascending=False)\n",
    "with pd.option_context('display.max_rows', None, 'display.max_columns', None):\n",
    "    display(rules_sconto_dic)"
   ]
  },
  {
   "cell_type": "markdown",
   "id": "8d58fe4b",
   "metadata": {},
   "source": [
    "Itemsets con il prodotto più venduto"
   ]
  },
  {
   "cell_type": "code",
   "execution_count": null,
   "id": "accc1297",
   "metadata": {
    "scrolled": false
   },
   "outputs": [],
   "source": [
    "rules_sconto_dic[(rules_sconto_dic['antecedents'].astype(str).str.contains(mostSoldDic,regex=False))|\n",
    "                ((rules_sconto_dic['consequents'].astype(str).str.contains(mostSoldDic,regex=False)))]"
   ]
  }
 ],
 "metadata": {
  "kernelspec": {
   "display_name": "Python 3 (ipykernel)",
   "language": "python",
   "name": "python3"
  },
  "language_info": {
   "codemirror_mode": {
    "name": "ipython",
    "version": 3
   },
   "file_extension": ".py",
   "mimetype": "text/x-python",
   "name": "python",
   "nbconvert_exporter": "python",
   "pygments_lexer": "ipython3",
   "version": "3.8.6"
  }
 },
 "nbformat": 4,
 "nbformat_minor": 5
}
