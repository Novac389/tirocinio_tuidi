{
 "cells": [
  {
   "cell_type": "code",
   "execution_count": null,
   "id": "5d576e5c",
   "metadata": {
    "scrolled": false
   },
   "outputs": [],
   "source": [
    "import pandas as pd\n",
    "import numpy as np\n",
    "import re\n",
    "import datetime as time\n",
    "from mlxtend.frequent_patterns import apriori, association_rules\n",
    "import sys\n",
    "np.set_printoptions(threshold=sys.maxsize)\n",
    "pd.set_option('display.max_columns', None)\n",
    "df = pd.read_parquet('scontrini_2.parquet',engine='pyarrow')\n",
    "df = df[(~df.reparto.isin([\"95\",\"80\",\"85\",\"03\"]))&(df.tipo==\"\")]\n",
    "df"
   ]
  },
  {
   "cell_type": "code",
   "execution_count": null,
   "id": "5b551c19",
   "metadata": {},
   "outputs": [],
   "source": [
    "def hot_encode(x):\n",
    "    if(x==0):\n",
    "        return False\n",
    "    else:\n",
    "        return True"
   ]
  },
  {
   "cell_type": "markdown",
   "id": "7bf8f542",
   "metadata": {},
   "source": [
    "ho differenziato i prodotti scontati da quelli non scontati aggiungendo il tipo di sconto alla fine della descrizione"
   ]
  },
  {
   "cell_type": "code",
   "execution_count": null,
   "id": "9dbd44f0",
   "metadata": {},
   "outputs": [],
   "source": [
    "df['descrizione']=(df['descrizione']+\" \"+df['tipo_promo']).str.strip()"
   ]
  },
  {
   "cell_type": "code",
   "execution_count": null,
   "id": "33d92343",
   "metadata": {},
   "outputs": [],
   "source": [
    "sconti=df[df.promoNoPromo!=0]"
   ]
  },
  {
   "cell_type": "code",
   "execution_count": null,
   "id": "3d12e281",
   "metadata": {},
   "outputs": [],
   "source": [
    "transazioni=sconti[['cassa','transazione','data_reg','descrizione','qta_riga']]\n",
    "\n",
    "basket=transazioni.groupby(['cassa','transazione','data_reg','descrizione'])['qta_riga']\\\n",
    "    .sum()\\\n",
    "    .unstack()\\\n",
    "    .reset_index()\\\n",
    "    .fillna(0)\\\n",
    "    .drop(['cassa', 'transazione','data_reg'], axis=1)\\\n",
    "    .applymap(hot_encode)\n",
    "basket"
   ]
  },
  {
   "cell_type": "markdown",
   "id": "3dda8986",
   "metadata": {},
   "source": [
    "si ottiene che se le banane sono in sconto si comprano anche le zucchine"
   ]
  },
  {
   "cell_type": "code",
   "execution_count": null,
   "id": "4c2e4ba0",
   "metadata": {
    "scrolled": true
   },
   "outputs": [],
   "source": [
    "frq_items = apriori(basket, min_support = 0.001, use_colnames = True)\n",
    "rules = association_rules(frq_items, metric =\"confidence\", min_threshold = 0.01)\n",
    "\n",
    "with pd.option_context('display.max_rows', None, 'display.max_columns', None):\n",
    "    display(frq_items.sort_values(by=['support'], ascending=False))"
   ]
  },
  {
   "cell_type": "code",
   "execution_count": null,
   "id": "31e2a73b",
   "metadata": {},
   "outputs": [],
   "source": [
    "with pd.option_context('display.max_rows', None, 'display.max_columns', None):\n",
    "    display(rules.sort_values(by=['confidence'], ascending=False))"
   ]
  }
 ],
 "metadata": {
  "kernelspec": {
   "display_name": "Python 3 (ipykernel)",
   "language": "python",
   "name": "python3"
  },
  "language_info": {
   "codemirror_mode": {
    "name": "ipython",
    "version": 3
   },
   "file_extension": ".py",
   "mimetype": "text/x-python",
   "name": "python",
   "nbconvert_exporter": "python",
   "pygments_lexer": "ipython3",
   "version": "3.8.6"
  }
 },
 "nbformat": 4,
 "nbformat_minor": 5
}
