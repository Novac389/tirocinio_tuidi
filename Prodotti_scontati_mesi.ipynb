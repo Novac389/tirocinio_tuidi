{
 "cells": [
  {
   "cell_type": "code",
   "execution_count": null,
   "id": "5d576e5c",
   "metadata": {
    "scrolled": false
   },
   "outputs": [],
   "source": [
    "import pandas as pd\n",
    "import numpy as np\n",
    "import re\n",
    "import datetime as time\n",
    "from mlxtend.frequent_patterns import apriori, association_rules\n",
    "import sys\n",
    "np.set_printoptions(threshold=sys.maxsize)\n",
    "pd.options.mode.chained_assignment = None \n",
    "pd.set_option('display.max_columns', None)\n",
    "df = pd.read_parquet('scontrini_2.parquet',engine='pyarrow')\n",
    "df = df[(~df.reparto.isin([\"95\",\"80\",\"85\"]))&(df.tipo==\"\")]\n",
    "df"
   ]
  },
  {
   "cell_type": "code",
   "execution_count": null,
   "id": "5b551c19",
   "metadata": {},
   "outputs": [],
   "source": [
    "def hot_encode(x):\n",
    "    if(x==0):\n",
    "        return False\n",
    "    else:\n",
    "        return True"
   ]
  },
  {
   "cell_type": "code",
   "execution_count": null,
   "id": "92e6a754",
   "metadata": {
    "scrolled": true
   },
   "outputs": [],
   "source": [
    "settembre=df[(df.data_reg>=time.date(2021,9,1))&(df.data_reg<=time.date(2021,9,30))]\n",
    "ottobre=df[(df.data_reg>=time.date(2021,10,1))&(df.data_reg<=time.date(2021,10,31))]\n",
    "novembre=df[(df.data_reg>=time.date(2021,11,1))&(df.data_reg<=time.date(2021,11,30))]\n",
    "dicembre=df[(df.data_reg>=time.date(2021,12,1))&(df.data_reg<=time.date(2021,12,31))]"
   ]
  },
  {
   "cell_type": "code",
   "execution_count": null,
   "id": "ae7180ff",
   "metadata": {},
   "outputs": [],
   "source": [
    "settembre['descrizione']=(settembre['descrizione']+\" \"+settembre['tipo_promo']).str.strip()\n",
    "ottobre['descrizione']=(ottobre['descrizione']+\" \"+ottobre['tipo_promo']).str.strip()\n",
    "novembre['descrizione']=(novembre['descrizione']+\" \"+novembre['tipo_promo']).str.strip()\n",
    "dicembre['descrizione']=(dicembre['descrizione']+\" \"+dicembre['tipo_promo']).str.strip()"
   ]
  },
  {
   "cell_type": "code",
   "execution_count": null,
   "id": "3d12e281",
   "metadata": {},
   "outputs": [],
   "source": [
    "transazioni=settembre[['cassa','transazione','data_reg','descrizione','qta_riga']]\n",
    "basketSet=transazioni.groupby(['cassa','transazione','data_reg','descrizione'])['qta_riga']\\\n",
    "    .sum()\\\n",
    "    .unstack()\\\n",
    "    .reset_index()\\\n",
    "    .fillna(0)\\\n",
    "    .drop(['cassa', 'transazione','data_reg'], axis=1)\\\n",
    "    .applymap(hot_encode)\n",
    "\n",
    "transazioni=ottobre[['cassa','transazione','data_reg','descrizione','qta_riga']]\n",
    "basketOtt=transazioni.groupby(['cassa','transazione','data_reg','descrizione'])['qta_riga']\\\n",
    "    .sum()\\\n",
    "    .unstack()\\\n",
    "    .reset_index()\\\n",
    "    .fillna(0)\\\n",
    "    .drop(['cassa', 'transazione','data_reg'], axis=1)\\\n",
    "    .applymap(hot_encode)\n",
    "\n",
    "transazioni=novembre[['cassa','transazione','data_reg','descrizione','qta_riga']]\n",
    "basketNov=transazioni.groupby(['cassa','transazione','data_reg','descrizione'])['qta_riga']\\\n",
    "    .sum()\\\n",
    "    .unstack()\\\n",
    "    .reset_index()\\\n",
    "    .fillna(0)\\\n",
    "    .drop(['cassa', 'transazione','data_reg'], axis=1)\\\n",
    "    .applymap(hot_encode)\n",
    "\n",
    "transazioni=dicembre[['cassa','transazione','data_reg','descrizione','qta_riga']]\n",
    "basketDic=transazioni.groupby(['cassa','transazione','data_reg','descrizione'])['qta_riga']\\\n",
    "    .sum()\\\n",
    "    .unstack()\\\n",
    "    .reset_index()\\\n",
    "    .fillna(0)\\\n",
    "    .drop(['cassa', 'transazione','data_reg'], axis=1)\\\n",
    "    .applymap(hot_encode)"
   ]
  },
  {
   "cell_type": "code",
   "execution_count": null,
   "id": "4c2e4ba0",
   "metadata": {
    "scrolled": true
   },
   "outputs": [],
   "source": [
    "frq_items_set = apriori(basketSet, min_support = 0.0015, use_colnames = True)\n",
    "rules_set = association_rules(frq_items_set, metric =\"confidence\", min_threshold = 0.01)\n",
    "\n",
    "frq_items_ott = apriori(basketOtt, min_support = 0.0015, use_colnames = True)\n",
    "rules_ott = association_rules(frq_items_ott, metric =\"confidence\", min_threshold = 0.01)\n",
    "\n",
    "frq_items_nov = apriori(basketNov, min_support = 0.0015, use_colnames = True)\n",
    "rules_nov = association_rules(frq_items_nov, metric =\"confidence\", min_threshold = 0.01)\n",
    "\n",
    "frq_items_dic = apriori(basketDic, min_support = 0.0015, use_colnames = True)\n",
    "rules_dic = association_rules(frq_items_dic, metric =\"confidence\", min_threshold = 0.01)\n"
   ]
  },
  {
   "cell_type": "code",
   "execution_count": null,
   "id": "d780788e",
   "metadata": {},
   "outputs": [],
   "source": [
    "with pd.option_context('display.max_rows', None, 'display.max_columns', None):\n",
    "    display(frq_items_set.sort_values(by=['support'], ascending=False))"
   ]
  },
  {
   "cell_type": "code",
   "execution_count": null,
   "id": "ea8ebb0b",
   "metadata": {
    "scrolled": true
   },
   "outputs": [],
   "source": [
    "with pd.option_context('display.max_rows', None, 'display.max_columns', None):\n",
    "    display(rules_set.sort_values(by=['confidence'], ascending=False))"
   ]
  },
  {
   "cell_type": "code",
   "execution_count": null,
   "id": "21e9c449",
   "metadata": {},
   "outputs": [],
   "source": [
    "with pd.option_context('display.max_rows', None, 'display.max_columns', None):\n",
    "    display(frq_items_ott.sort_values(by=['support'], ascending=False))"
   ]
  },
  {
   "cell_type": "code",
   "execution_count": null,
   "id": "f076ab36",
   "metadata": {},
   "outputs": [],
   "source": [
    "with pd.option_context('display.max_rows', None, 'display.max_columns', None):\n",
    "    display(rules_ott.sort_values(by=['confidence'], ascending=False))"
   ]
  },
  {
   "cell_type": "code",
   "execution_count": null,
   "id": "9fa1cf3b",
   "metadata": {},
   "outputs": [],
   "source": [
    "with pd.option_context('display.max_rows', None, 'display.max_columns', None):\n",
    "    display(frq_items_nov.sort_values(by=['support'], ascending=False))"
   ]
  },
  {
   "cell_type": "code",
   "execution_count": null,
   "id": "f75fcf38",
   "metadata": {},
   "outputs": [],
   "source": [
    "with pd.option_context('display.max_rows', None, 'display.max_columns', None):\n",
    "    display(rules_nov.sort_values(by=['confidence'], ascending=False))"
   ]
  },
  {
   "cell_type": "code",
   "execution_count": null,
   "id": "cf7420e2",
   "metadata": {},
   "outputs": [],
   "source": [
    "with pd.option_context('display.max_rows', None, 'display.max_columns', None):\n",
    "    display(frq_items_dic.sort_values(by=['support'], ascending=False))"
   ]
  },
  {
   "cell_type": "code",
   "execution_count": null,
   "id": "0be1c27e",
   "metadata": {},
   "outputs": [],
   "source": [
    "with pd.option_context('display.max_rows', None, 'display.max_columns', None):\n",
    "    display(rules_dic.sort_values(by=['confidence'], ascending=False))"
   ]
  }
 ],
 "metadata": {
  "kernelspec": {
   "display_name": "Python 3 (ipykernel)",
   "language": "python",
   "name": "python3"
  },
  "language_info": {
   "codemirror_mode": {
    "name": "ipython",
    "version": 3
   },
   "file_extension": ".py",
   "mimetype": "text/x-python",
   "name": "python",
   "nbconvert_exporter": "python",
   "pygments_lexer": "ipython3",
   "version": "3.8.6"
  }
 },
 "nbformat": 4,
 "nbformat_minor": 5
}
