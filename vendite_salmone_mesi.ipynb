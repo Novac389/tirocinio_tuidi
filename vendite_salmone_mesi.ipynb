{
 "cells": [
  {
   "cell_type": "code",
   "execution_count": null,
   "id": "dff2daa3",
   "metadata": {
    "scrolled": true
   },
   "outputs": [],
   "source": [
    "import pandas as pd\n",
    "import numpy as np\n",
    "import re\n",
    "import datetime as time\n",
    "from collections import Counter\n",
    "from mlxtend.frequent_patterns import apriori, association_rules\n",
    "#pd.set_option('display.max_columns', None)\n",
    "df = pd.read_parquet('scontrini_2.parquet',engine='pyarrow')\n",
    "df = df[(~df.reparto.isin([\"95\",\"80\",\"85\"]))&(df.tipo==\"\")&(df.descrizione==\"SALM.NORVEG.RE SALMONE GR.200\")]\n",
    "df"
   ]
  },
  {
   "cell_type": "code",
   "execution_count": null,
   "id": "069dc886",
   "metadata": {},
   "outputs": [],
   "source": [
    "def hot_encode(x):\n",
    "    if(x==0):\n",
    "        return False\n",
    "    else:\n",
    "        return True"
   ]
  },
  {
   "cell_type": "code",
   "execution_count": null,
   "id": "fd04c8d3",
   "metadata": {
    "scrolled": true
   },
   "outputs": [],
   "source": [
    "settembre=df[(df.data_reg>=time.date(2021,9,1))&(df.data_reg<=time.date(2021,9,30))]\n",
    "ottobre=df[(df.data_reg>=time.date(2021,10,1))&(df.data_reg<=time.date(2021,10,31))]\n",
    "novembre=df[(df.data_reg>=time.date(2021,11,1))&(df.data_reg<=time.date(2021,11,30))]\n",
    "dicembre=df[(df.data_reg>=time.date(2021,12,1))&(df.data_reg<=time.date(2021,12,31))]"
   ]
  },
  {
   "cell_type": "code",
   "execution_count": null,
   "id": "fb8ef442",
   "metadata": {},
   "outputs": [],
   "source": [
    "soldSet=len(settembre)\n",
    "soldOtt=len(ottobre)\n",
    "soldNov=len(novembre)\n",
    "soldDic=len(dicembre)"
   ]
  },
  {
   "cell_type": "markdown",
   "id": "4eefa6d1",
   "metadata": {},
   "source": [
    "Frequent set dei reparti periodo settebre-gennaio"
   ]
  },
  {
   "cell_type": "code",
   "execution_count": null,
   "id": "961af15d",
   "metadata": {},
   "outputs": [],
   "source": [
    "salmone_mesi={'mese':[\"settembre\",\"ottobre\",\"novembre\",\"dicembre\"],'vendite':[soldSet,soldOtt,soldNov,soldDic]}\n"
   ]
  },
  {
   "cell_type": "code",
   "execution_count": null,
   "id": "803ca3e7",
   "metadata": {},
   "outputs": [],
   "source": [
    "salmone_mesi"
   ]
  },
  {
   "cell_type": "code",
   "execution_count": null,
   "id": "4da7d687",
   "metadata": {
    "scrolled": false
   },
   "outputs": [],
   "source": [
    "pd.DataFrame(salmone_mesi).plot.bar(figsize=(5,6),x=\"mese\", y=\"vendite\")"
   ]
  }
 ],
 "metadata": {
  "kernelspec": {
   "display_name": "Python 3 (ipykernel)",
   "language": "python",
   "name": "python3"
  },
  "language_info": {
   "codemirror_mode": {
    "name": "ipython",
    "version": 3
   },
   "file_extension": ".py",
   "mimetype": "text/x-python",
   "name": "python",
   "nbconvert_exporter": "python",
   "pygments_lexer": "ipython3",
   "version": "3.8.6"
  }
 },
 "nbformat": 4,
 "nbformat_minor": 5
}
