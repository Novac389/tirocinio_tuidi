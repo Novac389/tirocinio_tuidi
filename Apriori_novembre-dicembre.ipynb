{
 "cells": [
  {
   "cell_type": "code",
   "execution_count": null,
   "id": "dff2daa3",
   "metadata": {
    "scrolled": false
   },
   "outputs": [],
   "source": [
    "import pandas as pd\n",
    "import numpy as np\n",
    "import re\n",
    "import datetime as time\n",
    "from collections import Counter\n",
    "from mlxtend.frequent_patterns import apriori, association_rules\n",
    "pd.set_option('display.max_columns', None)\n",
    "df = pd.read_parquet('scontrini.parquet',engine='pyarrow')\n",
    "df = df[(~df.reparto.isin([\"95\",\"80\",\"85\"]))&(df.tipo==\"\")]\n",
    "df"
   ]
  },
  {
   "cell_type": "code",
   "execution_count": null,
   "id": "069dc886",
   "metadata": {},
   "outputs": [],
   "source": [
    "def hot_encode(x):\n",
    "    if(x==0):\n",
    "        return False\n",
    "    else:\n",
    "        return True"
   ]
  },
  {
   "cell_type": "code",
   "execution_count": null,
   "id": "fd04c8d3",
   "metadata": {
    "scrolled": true
   },
   "outputs": [],
   "source": [
    "transazioniNov=df[['cassa','transazione','data_reg','descrizione','qta_riga']]\\\n",
    "    [(df.data_reg>=time.date(2021,11,1))&\n",
    "     (df.data_reg<=time.date(2021,11,30))]\n",
    "\n",
    "basketNov=transazioniNov.groupby(['cassa','transazione','data_reg','descrizione'])['qta_riga']\\\n",
    "    .sum()\\\n",
    "    .unstack()\\\n",
    "    .reset_index()\\\n",
    "    .fillna(0)\\\n",
    "    .drop(['cassa', 'transazione','data_reg'], axis=1)\\\n",
    "    .applymap(hot_encode)\n",
    "\n",
    "basketNov"
   ]
  },
  {
   "cell_type": "code",
   "execution_count": null,
   "id": "790c56f9",
   "metadata": {},
   "outputs": [],
   "source": [
    "transazioniDic=df[['cassa','transazione','data_reg','descrizione','qta_riga']]\\\n",
    "    [(df.data_reg>=time.date(2021,12,1))&\n",
    "     (df.data_reg<=time.date(2021,12,31))]\n",
    "\n",
    "basketDic=transazioniDic.groupby(['cassa','transazione','data_reg','descrizione'])['qta_riga']\\\n",
    "    .sum()\\\n",
    "    .unstack()\\\n",
    "    .reset_index()\\\n",
    "    .fillna(0)\\\n",
    "    .drop(['cassa', 'transazione','data_reg'], axis=1)\\\n",
    "    .applymap(hot_encode)\n",
    "\n",
    "basketDic"
   ]
  },
  {
   "cell_type": "markdown",
   "id": "4eefa6d1",
   "metadata": {},
   "source": [
    "Apriori sull'dataset così com'è nel periodo di novembre, regole associative ordinate per confidence"
   ]
  },
  {
   "cell_type": "code",
   "execution_count": null,
   "id": "961af15d",
   "metadata": {
    "scrolled": true
   },
   "outputs": [],
   "source": [
    "frq_items_nov = apriori(basketNov, min_support = 0.0012, use_colnames = True)\n",
    "rules_nov = association_rules(frq_items_nov, metric =\"confidence\", min_threshold = 0.01)\n",
    "\n",
    "with pd.option_context('display.max_rows', None, 'display.max_columns', None):\n",
    "    display(rules_nov.sort_values(by=['confidence'], ascending=False))"
   ]
  },
  {
   "cell_type": "markdown",
   "id": "85e30ccc",
   "metadata": {},
   "source": [
    "Regole associative ordinate per lift"
   ]
  },
  {
   "cell_type": "code",
   "execution_count": null,
   "id": "770c4751",
   "metadata": {
    "scrolled": true
   },
   "outputs": [],
   "source": [
    "with pd.option_context('display.max_rows', None, 'display.max_columns', None):\n",
    "    display(rules_nov.sort_values(by=['support'], ascending=False))"
   ]
  },
  {
   "cell_type": "markdown",
   "id": "eb7bb517",
   "metadata": {},
   "source": [
    "Apriori sull'dataset così com'è nel periodo di dicembre, regole associative ordinate per confidence"
   ]
  },
  {
   "cell_type": "code",
   "execution_count": null,
   "id": "01d2c23f",
   "metadata": {
    "scrolled": true
   },
   "outputs": [],
   "source": [
    "frq_items_dic = apriori(basketDic, min_support = 0.0012, use_colnames = True)\n",
    "rules_dic = association_rules(frq_items_dic, metric =\"confidence\", min_threshold = 0.01)\n",
    "\n",
    "with pd.option_context('display.max_rows', None, 'display.max_columns', None):\n",
    "    display(rules_dic.sort_values(by=['confidence'], ascending=False))"
   ]
  },
  {
   "cell_type": "markdown",
   "id": "bb99d2c5",
   "metadata": {},
   "source": [
    "Regole associative ordinate per lift"
   ]
  },
  {
   "cell_type": "code",
   "execution_count": null,
   "id": "238df84c",
   "metadata": {
    "scrolled": true
   },
   "outputs": [],
   "source": [
    "with pd.option_context('display.max_rows', None, 'display.max_columns', None):\n",
    "    display(rules_dic.sort_values(by=['lift'], ascending=False))"
   ]
  },
  {
   "cell_type": "code",
   "execution_count": null,
   "id": "c73fc7ec",
   "metadata": {
    "scrolled": false
   },
   "outputs": [],
   "source": [
    "with pd.option_context('display.max_rows', None, 'display.max_columns', None):\n",
    "    display(rules_dic.sort_values(by=['support'], ascending=False))"
   ]
  },
  {
   "cell_type": "code",
   "execution_count": null,
   "id": "e9cdc548",
   "metadata": {
    "scrolled": false
   },
   "outputs": [],
   "source": [
    "with pd.option_context('display.max_rows', None, 'display.max_columns', None):\n",
    "    display(frq_items_dic.sort_values(by=['support'], ascending=False))"
   ]
  },
  {
   "cell_type": "code",
   "execution_count": null,
   "id": "96dc6a14",
   "metadata": {},
   "outputs": [],
   "source": [
    "frq_items_nov.sort_values(by=\"support\",ascending=False,inplace=True)"
   ]
  },
  {
   "cell_type": "code",
   "execution_count": null,
   "id": "173334b9",
   "metadata": {},
   "outputs": [],
   "source": [
    "with pd.option_context('display.max_rows', None, 'display.max_columns', None):\n",
    "    display(frq_items_nov)"
   ]
  },
  {
   "cell_type": "code",
   "execution_count": null,
   "id": "a71dc10e",
   "metadata": {},
   "outputs": [],
   "source": [
    "frq_items_nov = apriori(\n",
    "    basketNov, \n",
    "    min_support = 0.003, \n",
    "    use_colnames = True)"
   ]
  }
 ],
 "metadata": {
  "kernelspec": {
   "display_name": "Python 3 (ipykernel)",
   "language": "python",
   "name": "python3"
  },
  "language_info": {
   "codemirror_mode": {
    "name": "ipython",
    "version": 3
   },
   "file_extension": ".py",
   "mimetype": "text/x-python",
   "name": "python",
   "nbconvert_exporter": "python",
   "pygments_lexer": "ipython3",
   "version": "3.8.6"
  }
 },
 "nbformat": 4,
 "nbformat_minor": 5
}
