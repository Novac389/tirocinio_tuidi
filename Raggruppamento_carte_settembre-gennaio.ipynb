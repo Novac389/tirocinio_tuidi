{
 "cells": [
  {
   "cell_type": "code",
   "execution_count": null,
   "id": "1e919290",
   "metadata": {
    "scrolled": true
   },
   "outputs": [],
   "source": [
    "import pandas as pd\n",
    "import numpy as np\n",
    "from mlxtend.frequent_patterns import apriori, association_rules\n",
    "from collections import Counter\n",
    "pd.options.mode.chained_assignment = None \n",
    "pd.set_option('display.max_columns', None)\n",
    "df = pd.read_parquet('scontrini_2.parquet',engine='pyarrow')\n",
    "df = df[(~df.reparto.isin([\"95\",\"80\",\"85\"]))&(df.tipo==\"\")]\n",
    "df"
   ]
  },
  {
   "cell_type": "code",
   "execution_count": null,
   "id": "f5719a0f",
   "metadata": {},
   "outputs": [],
   "source": [
    "def hot_encode(x):\n",
    "    if(x== 0):\n",
    "        return False\n",
    "    else:\n",
    "        return True"
   ]
  },
  {
   "cell_type": "markdown",
   "id": "826e879e",
   "metadata": {},
   "source": [
    "Ottengo gli acquisti fatti solo da carte fedeltà"
   ]
  },
  {
   "cell_type": "code",
   "execution_count": null,
   "id": "ff302b3f",
   "metadata": {
    "scrolled": true
   },
   "outputs": [],
   "source": [
    "transzioniCarte = df[['cassa','transazione','data_reg','descrizione','qta_riga','carta']]\n",
    "transzioniCarte['carta']=transzioniCarte['carta'].str.strip()\n",
    "transzioniCarte=transzioniCarte[transzioniCarte.carta!=\"\"]\n",
    "transzioniCarte"
   ]
  },
  {
   "cell_type": "markdown",
   "id": "94f57986",
   "metadata": {},
   "source": [
    "trovo le carte con le relative spese fatte da ogni carta"
   ]
  },
  {
   "cell_type": "code",
   "execution_count": null,
   "id": "db8e22ae",
   "metadata": {},
   "outputs": [],
   "source": [
    "speseCarte=transzioniCarte.groupby(['carta','cassa','transazione','data_reg'])\\\n",
    "    .count()\\\n",
    "    .reset_index()\\\n",
    "    .groupby(['carta'])\\\n",
    "    .count()\\\n",
    "    .drop(['cassa', 'transazione','data_reg','descrizione'], axis=1)\\\n",
    "    .rename(columns={\"qta_riga\": \"spese\"})\\\n",
    "    .reset_index()\n",
    "\n",
    "carteFiltrate=speseCarte[(speseCarte.spese>=20)&(speseCarte.spese<=180)].sort_values(by=['spese'],ascending=False)\n",
    "transazioniFiltrate = transzioniCarte[transzioniCarte.carta.isin(carteFiltrate.carta.values)]"
   ]
  },
  {
   "cell_type": "code",
   "execution_count": null,
   "id": "b121704c",
   "metadata": {
    "scrolled": true
   },
   "outputs": [],
   "source": [
    "len(carteFiltrate)"
   ]
  },
  {
   "cell_type": "markdown",
   "id": "e00b3363",
   "metadata": {},
   "source": [
    "creazione tabella one hot spese carte filtrate"
   ]
  },
  {
   "cell_type": "code",
   "execution_count": null,
   "id": "b7cba4d9",
   "metadata": {
    "scrolled": true
   },
   "outputs": [],
   "source": [
    "basket=transazioniFiltrate.groupby(['cassa','transazione','data_reg','carta','descrizione']) \\\n",
    "    ['qta_riga']\\\n",
    "    .sum()\\\n",
    "    .unstack(fill_value=0)\\\n",
    "    .reset_index()\\\n",
    "    .drop(['cassa', 'transazione'], axis=1)\\\n",
    "    .set_index(['carta', 'data_reg'])\\\n",
    "    .applymap(hot_encode)\n",
    "\n",
    "basket"
   ]
  },
  {
   "cell_type": "markdown",
   "id": "3fb4138e",
   "metadata": {},
   "source": [
    "assosiation rules su tutte le carte di clienti 'veri'"
   ]
  },
  {
   "cell_type": "code",
   "execution_count": null,
   "id": "6796100a",
   "metadata": {},
   "outputs": [],
   "source": [
    "frq_items_all_cards = apriori(basket, min_support = 0.0022, use_colnames = True)\n",
    "with pd.option_context('display.max_rows', None, 'display.max_columns', None):\n",
    "    display(frq_items_all_cards.sort_values(by=['support'],ascending=False))"
   ]
  },
  {
   "cell_type": "code",
   "execution_count": null,
   "id": "104e60d1",
   "metadata": {
    "scrolled": true
   },
   "outputs": [],
   "source": [
    "rules = association_rules(frq_items_all_cards, metric =\"support\", min_threshold = 0.005)\n",
    "with pd.option_context('display.max_rows', None, 'display.max_columns', None):\n",
    "    display(rules.sort_values(by=['confidence'], ascending=False))"
   ]
  },
  {
   "cell_type": "markdown",
   "id": "73fa6570",
   "metadata": {},
   "source": [
    "ottengo i 5 itemset più frequenti per ogni carta"
   ]
  },
  {
   "cell_type": "code",
   "execution_count": null,
   "id": "d84826aa",
   "metadata": {},
   "outputs": [],
   "source": [
    "frq_items_cards={}\n",
    "for card in carteFiltrate.carta:\n",
    "    support=0.5\n",
    "    nItems=0\n",
    "    while(nItems<10):\n",
    "        frq_items_card = apriori(basket[basket.index.get_level_values(0)==card], min_support = support, use_colnames = True).sort_values(by=['support'], ascending=False)\n",
    "        nItems=len(frq_items_card)\n",
    "        support-=0.001\n",
    "    frq_items_cards[card]=frq_items_card"
   ]
  },
  {
   "cell_type": "code",
   "execution_count": null,
   "id": "93df6453",
   "metadata": {
    "scrolled": true
   },
   "outputs": [],
   "source": [
    "with pd.option_context('display.max_rows', None, 'display.max_colwidth', 100):\n",
    "    for card in frq_items_cards.keys():\n",
    "        print(\"\\n\" +\"=\"*50)\n",
    "        print(card +\"\\t Spese: \"+str(carteFiltrate[carteFiltrate.carta==card].spese.item()))\n",
    "        print(\"-\"*50)\n",
    "        display(frq_items_cards[card].head(10))"
   ]
  },
  {
   "cell_type": "code",
   "execution_count": null,
   "id": "291dcae2",
   "metadata": {},
   "outputs": [],
   "source": [
    "association_rules_cards={}\n",
    "for card in frq_items_cards.keys():\n",
    "    print(\"\\n\" +\"=\"*100)\n",
    "    print(\"Carta: \"+card+\"\\t Spese: \"+str(carteFiltrate[carteFiltrate.carta==card].spese.item()))\n",
    "    print(\"-\"*100)\n",
    "    with pd.option_context('display.max_rows', None, 'display.max_columns', None):\n",
    "        display(association_rules(frq_items_cards[card], metric =\"support\", min_threshold = 0.001).sort_values(by=['confidence'], ascending=False))"
   ]
  }
 ],
 "metadata": {
  "kernelspec": {
   "display_name": "Python 3 (ipykernel)",
   "language": "python",
   "name": "python3"
  },
  "language_info": {
   "codemirror_mode": {
    "name": "ipython",
    "version": 3
   },
   "file_extension": ".py",
   "mimetype": "text/x-python",
   "name": "python",
   "nbconvert_exporter": "python",
   "pygments_lexer": "ipython3",
   "version": "3.8.6"
  }
 },
 "nbformat": 4,
 "nbformat_minor": 5
}
